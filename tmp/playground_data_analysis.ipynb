{
 "cells": [
  {
   "cell_type": "code",
   "execution_count": 54,
   "metadata": {},
   "outputs": [],
   "source": [
    "import pandas as pd\n",
    "import numpy as np\n",
    "import re\n",
    "import json\n",
    "import time"
   ]
  },
  {
   "cell_type": "code",
   "execution_count": 27,
   "metadata": {},
   "outputs": [],
   "source": [
    "data = 'cleaned_history_.json'\n",
    "unprocessed_data = pd.read_json(data)"
   ]
  },
  {
   "cell_type": "code",
   "execution_count": 28,
   "metadata": {},
   "outputs": [
    {
     "data": {
      "text/html": [
       "<div>\n",
       "<style scoped>\n",
       "    .dataframe tbody tr th:only-of-type {\n",
       "        vertical-align: middle;\n",
       "    }\n",
       "\n",
       "    .dataframe tbody tr th {\n",
       "        vertical-align: top;\n",
       "    }\n",
       "\n",
       "    .dataframe thead th {\n",
       "        text-align: right;\n",
       "    }\n",
       "</style>\n",
       "<table border=\"1\" class=\"dataframe\">\n",
       "  <thead>\n",
       "    <tr style=\"text-align: right;\">\n",
       "      <th></th>\n",
       "      <th>favicon_url</th>\n",
       "      <th>page_transition</th>\n",
       "      <th>title</th>\n",
       "      <th>url</th>\n",
       "      <th>client_id</th>\n",
       "      <th>time_usec</th>\n",
       "      <th>link</th>\n",
       "    </tr>\n",
       "  </thead>\n",
       "  <tbody>\n",
       "    <tr>\n",
       "      <th>0</th>\n",
       "      <td>https://www.vg.no/gfx/icons/apple-touch-icon-1...</td>\n",
       "      <td>TYPED</td>\n",
       "      <td>Nyheter fra Norges mest leste nettavis – VG</td>\n",
       "      <td>https://www.vg.no/</td>\n",
       "      <td>Iiteen/E0kB7QdKeRu1j8Q==</td>\n",
       "      <td>1665346443057756</td>\n",
       "      <td>www.vg.no</td>\n",
       "    </tr>\n",
       "    <tr>\n",
       "      <th>1</th>\n",
       "      <td>None</td>\n",
       "      <td>RELOAD</td>\n",
       "      <td>Ny oppskyting fra Kim - USA rådfører seg med a...</td>\n",
       "      <td>https://www.vg.no/nyheter/utenriks/i/kE6V7X/ny...</td>\n",
       "      <td>Iiteen/E0kB7QdKeRu1j8Q==</td>\n",
       "      <td>1665312300407971</td>\n",
       "      <td>www.vg.no</td>\n",
       "    </tr>\n",
       "    <tr>\n",
       "      <th>2</th>\n",
       "      <td>https://www.vg.no/cnp-assets/favicon-29bc799f/...</td>\n",
       "      <td>LINK</td>\n",
       "      <td>Zelenskyj med kryptisk Krim-melding – VG</td>\n",
       "      <td>https://www.vg.no/nyheter/utenriks/i/O8rdRw/ze...</td>\n",
       "      <td>Iiteen/E0kB7QdKeRu1j8Q==</td>\n",
       "      <td>1665312249062191</td>\n",
       "      <td>www.vg.no</td>\n",
       "    </tr>\n",
       "    <tr>\n",
       "      <th>3</th>\n",
       "      <td>https://www.vg.no/cnp-assets/favicon-29bc799f/...</td>\n",
       "      <td>LINK</td>\n",
       "      <td>Zelenskyj tar Japans parti i «krig» med Russland…</td>\n",
       "      <td>https://www.vg.no/nyheter/utenriks/i/696RlL/ze...</td>\n",
       "      <td>Iiteen/E0kB7QdKeRu1j8Q==</td>\n",
       "      <td>1665312169648724</td>\n",
       "      <td>www.vg.no</td>\n",
       "    </tr>\n",
       "    <tr>\n",
       "      <th>4</th>\n",
       "      <td>https://www.vg.no/cnp-assets/favicon-29bc799f/...</td>\n",
       "      <td>LINK</td>\n",
       "      <td>Haaland hylles verden rundt: – Det er brutalt ...</td>\n",
       "      <td>https://www.vg.no/sport/fotball/i/EQae6G/haala...</td>\n",
       "      <td>Iiteen/E0kB7QdKeRu1j8Q==</td>\n",
       "      <td>1665312065516677</td>\n",
       "      <td>www.vg.no</td>\n",
       "    </tr>\n",
       "  </tbody>\n",
       "</table>\n",
       "</div>"
      ],
      "text/plain": [
       "                                         favicon_url page_transition  \\\n",
       "0  https://www.vg.no/gfx/icons/apple-touch-icon-1...           TYPED   \n",
       "1                                               None          RELOAD   \n",
       "2  https://www.vg.no/cnp-assets/favicon-29bc799f/...            LINK   \n",
       "3  https://www.vg.no/cnp-assets/favicon-29bc799f/...            LINK   \n",
       "4  https://www.vg.no/cnp-assets/favicon-29bc799f/...            LINK   \n",
       "\n",
       "                                               title  \\\n",
       "0        Nyheter fra Norges mest leste nettavis – VG   \n",
       "1  Ny oppskyting fra Kim - USA rådfører seg med a...   \n",
       "2           Zelenskyj med kryptisk Krim-melding – VG   \n",
       "3  Zelenskyj tar Japans parti i «krig» med Russland…   \n",
       "4  Haaland hylles verden rundt: – Det er brutalt ...   \n",
       "\n",
       "                                                 url  \\\n",
       "0                                 https://www.vg.no/   \n",
       "1  https://www.vg.no/nyheter/utenriks/i/kE6V7X/ny...   \n",
       "2  https://www.vg.no/nyheter/utenriks/i/O8rdRw/ze...   \n",
       "3  https://www.vg.no/nyheter/utenriks/i/696RlL/ze...   \n",
       "4  https://www.vg.no/sport/fotball/i/EQae6G/haala...   \n",
       "\n",
       "                  client_id         time_usec       link  \n",
       "0  Iiteen/E0kB7QdKeRu1j8Q==  1665346443057756  www.vg.no  \n",
       "1  Iiteen/E0kB7QdKeRu1j8Q==  1665312300407971  www.vg.no  \n",
       "2  Iiteen/E0kB7QdKeRu1j8Q==  1665312249062191  www.vg.no  \n",
       "3  Iiteen/E0kB7QdKeRu1j8Q==  1665312169648724  www.vg.no  \n",
       "4  Iiteen/E0kB7QdKeRu1j8Q==  1665312065516677  www.vg.no  "
      ]
     },
     "execution_count": 28,
     "metadata": {},
     "output_type": "execute_result"
    }
   ],
   "source": [
    "unprocessed_data.head(5)"
   ]
  },
  {
   "cell_type": "code",
   "execution_count": 29,
   "metadata": {},
   "outputs": [],
   "source": [
    "unprocessed_data = unprocessed_data.reset_index()\n",
    "unprocessed_data = unprocessed_data.rename(columns={\"index\":\"id\"})"
   ]
  },
  {
   "cell_type": "code",
   "execution_count": 45,
   "metadata": {},
   "outputs": [],
   "source": [
    "unprocessed_data\n",
    "data = [(src, dst) for src, dst in zip(unprocessed_data['id'], unprocessed_data['time_usec'])]"
   ]
  },
  {
   "cell_type": "code",
   "execution_count": 96,
   "metadata": {},
   "outputs": [
    {
     "name": "stdout",
     "output_type": "stream",
     "text": [
      "[(149, 1661175088282028), (148, 1661175091402120), (147, 1661175113250506), (146, 1661175188508216), (145, 1661234269630868), (144, 1661234269635491), (143, 1661240414177422), (142, 1661240418438731), (141, 1661243244271721), (140, 1661243244276620), (139, 1661247955097877), (308, 1661247975047118), (309, 1661247975047118), (306, 1661247985480733), (307, 1661247985480733), (304, 1661248076078824), (305, 1661248076078824), (302, 1661248160037859), (303, 1661248160037859), (300, 1661348924082368), (301, 1661348924082368), (138, 1661348924087241), (298, 1661348924087375), (299, 1661348924087375), (322, 1661348929445939), (321, 1661351407094192), (320, 1661351412811720), (319, 1661351415334184), (318, 1661351519563767), (317, 1661355855341375), (316, 1661355855345947), (315, 1661355855346014), (314, 1661355858214755), (313, 1661355858214807), (312, 1661509911022686), (311, 1661509911022740), (296, 1661509924923843), (297, 1661509924923843), (294, 1661509932513894), (295, 1661509932513894), (292, 1661510220995188), (293, 1661510220995188), (290, 1661517842514375), (291, 1661517842514375), (288, 1661517847088007), (289, 1661517847088007), (137, 1661517859427600), (136, 1661517873952461), (135, 1661517990047539), (134, 1661523950735520), (286, 1661523950740697), (287, 1661523950740697), (133, 1661523950740752), (132, 1661632618635857), (131, 1661632618635921), (284, 1661842568314250), (285, 1661842568314250), (282, 1661842579273714), (283, 1661842579273714), (280, 1661842627928748), (281, 1661842627928748), (278, 1661940626713352), (279, 1661940626713352), (276, 1661940626717475), (277, 1661940626717475), (130, 1661965446550962), (129, 1661967081687281), (128, 1662017770588971), (127, 1662017862004891), (126, 1662017868560062), (125, 1662017898534180), (124, 1662017982003995), (123, 1662050233334380), (122, 1662050233338987), (121, 1662062444255652), (120, 1662062444259887), (119, 1662062445901684), (118, 1662062448882848), (117, 1662062518318371), (116, 1662114283589397), (115, 1662114283589427), (310, 1662114288468540), (114, 1662386734525295), (113, 1662386734525342), (112, 1662562738964903), (111, 1662562738964933), (110, 1662637928415189), (109, 1662637933025116), (108, 1662643039686950), (107, 1662656826913159), (106, 1662656826916206), (105, 1662656826916234), (104, 1662658638656646), (103, 1662658638659576), (102, 1662658638659602), (101, 1662668919173149), (100, 1662668919177865), (99, 1662668919177913), (98, 1662668926679819), (97, 1662716139719235), (96, 1662716139722607), (95, 1662716139722638), (94, 1662716139722661), (93, 1662736770515629), (92, 1662736780608180), (91, 1662888482306445), (90, 1662888482311344), (89, 1662888484839170), (88, 1662965435941217), (87, 1662965439150790), (86, 1662965499333421), (85, 1662965550336763), (84, 1662968075276878), (83, 1662968075280345), (82, 1662989115699090), (81, 1662989137414655), (80, 1662989242472920), (79, 1662990115650766), (78, 1662990115650797), (77, 1662990120911828), (76, 1662990125081789), (75, 1662999893224027), (74, 1662999893228690), (73, 1662999893228737), (72, 1662999893228819), (71, 1663164485325702), (70, 1663181044990218), (69, 1663184706621650), (68, 1663232428527243), (67, 1663238053866238), (66, 1663238057901260), (65, 1663238058901281), (64, 1663238101982791), (63, 1663238587622229), (62, 1663238587629364), (274, 1663342245386270), (275, 1663342245386270), (272, 1663342279750514), (273, 1663342279750514), (270, 1663342423073093), (271, 1663342423073093), (268, 1663342523320747), (269, 1663342523320747), (266, 1663342563842073), (267, 1663342563842073), (264, 1663342602687430), (265, 1663342602687430), (262, 1663342651684999), (263, 1663342651684999), (260, 1663342747218510), (261, 1663342747218510), (258, 1663405415197975), (259, 1663405415197975), (256, 1663405415201691), (257, 1663405415201691), (254, 1663409307449352), (255, 1663409307449352), (252, 1663409307449405), (253, 1663409307449405), (250, 1663409355918076), (251, 1663409355918076), (248, 1663409868623900), (249, 1663409868623900), (246, 1663409868627730), (247, 1663409868627730), (244, 1663409901576309), (245, 1663409901576309), (242, 1663413735335194), (243, 1663413735335194), (240, 1663413756244873), (241, 1663413756244873), (238, 1663413788770745), (239, 1663413788770745), (236, 1663414364324285), (237, 1663414364324285), (234, 1663414386279163), (235, 1663414386279163), (232, 1663414731355368), (233, 1663414731355368), (230, 1663415995683275), (231, 1663415995683275), (228, 1663416011054772), (229, 1663416011054772), (226, 1663496103475509), (227, 1663496103475509), (224, 1663496103479969), (225, 1663496103479969), (61, 1663657641796776), (60, 1663686960683882), (59, 1663686965386209), (58, 1663833050220188), (57, 1663871725319446), (56, 1663883588539620), (55, 1664266075186205), (54, 1664458594441749), (53, 1664458655219389), (52, 1664478839571882), (51, 1664478847568324), (50, 1664479081247428), (49, 1664479081249906), (48, 1664543126831409), (47, 1664543126835342), (46, 1664549303998549), (45, 1664549304001312), (44, 1664549312334224), (43, 1664549329852180), (42, 1664549345438892), (41, 1664613720982022), (40, 1664613720985927), (39, 1664613720985960), (38, 1664613720985988), (37, 1664613724873643), (36, 1664613734991979), (35, 1664613942646548), (34, 1664619049715685), (222, 1664619052987695), (223, 1664619052987695), (220, 1664619069207492), (221, 1664619069207492), (218, 1664619131214408), (219, 1664619131214408), (216, 1664619387722852), (217, 1664619387722852), (214, 1664619521273752), (215, 1664619521273752), (212, 1664619616465020), (213, 1664619616465020), (210, 1664619783111829), (211, 1664619783111829), (208, 1664619899295066), (209, 1664619899295066), (206, 1664619922041849), (207, 1664619922041849), (204, 1664619972756643), (205, 1664619972756643), (202, 1664620007963160), (203, 1664620007963160), (200, 1664623909204265), (201, 1664623909204265), (33, 1664623909207412), (32, 1664623909207437), (31, 1664623909207465), (198, 1664623909207491), (199, 1664623909207491), (196, 1664623919590115), (197, 1664623919590115), (194, 1664627631208558), (195, 1664627631208558), (30, 1664627631212237), (29, 1664627631212268), (28, 1664627631212294), (192, 1664627631212319), (193, 1664627631212319), (27, 1664791704028569), (26, 1664791704028597), (25, 1664791704028621), (190, 1664791704028642), (191, 1664791704028642), (188, 1664791704028673), (189, 1664791704028673), (186, 1664816458334303), (187, 1664816458334303), (24, 1665042311649973), (23, 1665220264376649), (22, 1665220271976214), (21, 1665220296205634), (20, 1665220358709719), (19, 1665220391586616), (18, 1665220447504603), (17, 1665220501919738), (16, 1665220518155552), (15, 1665220914999309), (14, 1665221130265615), (184, 1665225375775420), (185, 1665225375775420), (182, 1665225395929977), (183, 1665225395929977), (180, 1665226555135028), (181, 1665226555135028), (178, 1665227103352792), (179, 1665227103352792), (176, 1665227141290963), (177, 1665227141290963), (174, 1665227167185226), (175, 1665227167185226), (172, 1665307280880964), (173, 1665307280880964), (13, 1665307280902240), (12, 1665307280902269), (170, 1665307280902307), (171, 1665307280902307), (11, 1665307957601075), (10, 1665307968662225), (9, 1665311367101901), (8, 1665311393743599), (7, 1665311635680594), (6, 1665311778883343), (5, 1665311976777591), (4, 1665312065516677), (3, 1665312169648724), (2, 1665312249062191), (1, 1665312300407971), (168, 1665312518379693), (169, 1665312518379693), (166, 1665312523173133), (167, 1665312523173133), (164, 1665312603834859), (165, 1665312603834859), (162, 1665312766456952), (163, 1665312766456952), (160, 1665312793007002), (161, 1665312793007002), (158, 1665312812665014), (159, 1665312812665014), (156, 1665312884692231), (157, 1665312884692231), (154, 1665312976361328), (155, 1665312976361328), (152, 1665346420035831), (153, 1665346420035831), (150, 1665346420056391), (151, 1665346420056391), (0, 1665346443057756)]\n"
     ]
    }
   ],
   "source": [
    "def Sort(sub_li):\n",
    "    # reverse = None (Sorts in Ascending order)\n",
    "    # key is set to sort using second element of \n",
    "    # sublist lambda has been used\n",
    "    return(sorted(sub_li, key = lambda x: x[1]))    \n",
    "  \n",
    "# Driver Code\n",
    "print(Sort(data))\n",
    "data = np.array(Sort(data))"
   ]
  },
  {
   "cell_type": "code",
   "execution_count": 94,
   "metadata": {},
   "outputs": [
    {
     "data": {
      "text/plain": [
       "'10/09/22 10:45'"
      ]
     },
     "execution_count": 94,
     "metadata": {},
     "output_type": "execute_result"
    }
   ],
   "source": [
    "from datetime import datetime\n",
    "import time\n",
    "\n",
    "def show_time(stamp):\n",
    "    times = stamp / 1000000\n",
    "    return datetime.utcfromtimestamp(times).strftime(\"%D %H:%M\")\n",
    "times = 1665312603834859/1000000\n",
    "datetime.utcfromtimestamp(times).strftime(\"%D %H:%M\")\n",
    "\n",
    "show_time(1665312603834859-(5*60000000))"
   ]
  },
  {
   "cell_type": "code",
   "execution_count": 134,
   "metadata": {},
   "outputs": [],
   "source": [
    "# Bins containing lists of data, add to list if within 5 mins of last entry\n",
    "\n",
    "class SessionString:\n",
    "    def __init__(self, item_id: int, usec: int, timespan = 5):\n",
    "        self.id = item_id\n",
    "        self.usec = usec\n",
    "        self.timespan = timespan\n",
    "\n",
    "        self.top = self.timespan * 60000000\n",
    "        self.bottom = -(self.timespan * 60000000)\n",
    "\n",
    "        # data sctructure points\n",
    "        self.before = None\n",
    "        self.after = None\n",
    "        \n",
    "\n",
    "    # This will always be called on head, which is the first object timewise\n",
    "    def add(self, new_entry: object):\n",
    "        difference = self.usec - new_entry.usec\n",
    "        if difference < self.top and difference > self.bottom:\n",
    "            print(show_time(a))\n",
    "            print(show_time(b))\n",
    "            print(f'Within {self.timespan} mins!')\n",
    "            self.place(new_entry, difference)\n",
    "            return True\n",
    "        else:\n",
    "            print(show_time(a))\n",
    "            print(show_time(b))\n",
    "            print('Not Within mins!', difference / 60000000, 'minutes apart.')\n",
    "            return False\n",
    "\n",
    "\n",
    "    def place(self, new_entry: object, difference: int):\n",
    "        head = self\n",
    "        # if difference is less than 0, set new head.\n",
    "        if difference < 0:\n",
    "            # add \n",
    "            head.before = new_entry\n",
    "            new_entry.after = head\n",
    "            # add difference to bottom (maximum allowed time)\n",
    "            new_entry.bottom = head.bottom - difference\n",
    "            self = new_entry\n",
    "\n",
    "        # if difference is positive, we will not replace head, but we will add to tail.\n",
    "        else:\n",
    "            item = head\n",
    "            before = None\n",
    "            # go to after untill either item is null (we reached tail)\n",
    "            # or fix after.\n",
    "            while item.after:\n",
    "\n",
    "                if item.usec < new_entry.usec:\n",
    "                    # if we're at tail:\n",
    "                    item = item.after\n",
    "                \n",
    "                else: \n",
    "                    # place\n",
    "                    before = item.before\n",
    "\n",
    "                    new_entry.before = before\n",
    "                    before.after = new_entry\n",
    "                    new_entry.after = item\n",
    "                    item.before = new_entry\n",
    "                    break\n",
    "            \n",
    "            # if while loop ran out due to no after:\n",
    "            if not item.after:\n",
    "                head.bottom += difference\n",
    "                item.after = new_entry\n",
    "                new_entry.before = item\n",
    "\n",
    "    def as_list(self):\n",
    "        values = []\n",
    "        # go to first item\n",
    "        head = self.get_head()\n",
    "        \n",
    "        # iterate and grab all entries\n",
    "        while head.after:\n",
    "            values.append((head.id, head.usec))\n",
    "            head = head.after\n",
    "\n",
    "        return values\n",
    "        \n",
    "    def get_head(self):\n",
    "        head = self\n",
    "        while head.before:\n",
    "            head = head.before\n",
    "        return head\n"
   ]
  },
  {
   "cell_type": "code",
   "execution_count": 135,
   "metadata": {},
   "outputs": [
    {
     "name": "stdout",
     "output_type": "stream",
     "text": [
      "[[<__main__.SessionString object at 0x16988f0d0>]]\n"
     ]
    },
    {
     "ename": "AttributeError",
     "evalue": "'list' object has no attribute 'add'",
     "output_type": "error",
     "traceback": [
      "\u001b[0;31m---------------------------------------------------------------------------\u001b[0m",
      "\u001b[0;31mAttributeError\u001b[0m                            Traceback (most recent call last)",
      "\u001b[1;32m/Users/snorrealvsvag/MediaFutures/codeprojects/showcase-news-use/tmp/playground_data_analysis.ipynb Cell 9\u001b[0m in \u001b[0;36m<cell line: 2>\u001b[0;34m()\u001b[0m\n\u001b[1;32m     <a href='vscode-notebook-cell:/Users/snorrealvsvag/MediaFutures/codeprojects/showcase-news-use/tmp/playground_data_analysis.ipynb#X16sZmlsZQ%3D%3D?line=9'>10</a>\u001b[0m \u001b[39mprint\u001b[39m(sessions)\n\u001b[1;32m     <a href='vscode-notebook-cell:/Users/snorrealvsvag/MediaFutures/codeprojects/showcase-news-use/tmp/playground_data_analysis.ipynb#X16sZmlsZQ%3D%3D?line=10'>11</a>\u001b[0m head \u001b[39m=\u001b[39m sessions[i]\n\u001b[0;32m---> <a href='vscode-notebook-cell:/Users/snorrealvsvag/MediaFutures/codeprojects/showcase-news-use/tmp/playground_data_analysis.ipynb#X16sZmlsZQ%3D%3D?line=11'>12</a>\u001b[0m \u001b[39mwhile\u001b[39;00m \u001b[39mnot\u001b[39;00m head\u001b[39m.\u001b[39;49madd(entry):\n\u001b[1;32m     <a href='vscode-notebook-cell:/Users/snorrealvsvag/MediaFutures/codeprojects/showcase-news-use/tmp/playground_data_analysis.ipynb#X16sZmlsZQ%3D%3D?line=12'>13</a>\u001b[0m     i \u001b[39m+\u001b[39m\u001b[39m=\u001b[39m \u001b[39m1\u001b[39m\n",
      "\u001b[0;31mAttributeError\u001b[0m: 'list' object has no attribute 'add'"
     ]
    }
   ],
   "source": [
    "sessions = []\n",
    "for entry in data:\n",
    "    i = 0\n",
    "    # cold start\n",
    "    if len(sessions) == 0:\n",
    "        entry = SessionString(item_id=entry[0], usec=entry[1])\n",
    "        sessions.append([entry])\n",
    "    else:\n",
    "        entry = SessionString(item_id=entry[0], usec=entry[1])\n",
    "        print(sessions)\n",
    "        head = sessions[i][0]\n",
    "        while not head.add(entry):\n",
    "            i += 1"
   ]
  },
  {
   "cell_type": "code",
   "execution_count": 101,
   "metadata": {},
   "outputs": [
    {
     "data": {
      "text/plain": [
       "1"
      ]
     },
     "execution_count": 101,
     "metadata": {},
     "output_type": "execute_result"
    }
   ],
   "source": [
    "sessions = []\n",
    "len(sessions)"
   ]
  },
  {
   "cell_type": "code",
   "execution_count": 124,
   "metadata": {},
   "outputs": [
    {
     "name": "stdout",
     "output_type": "stream",
     "text": [
      "10/01/22 11:31\n",
      "10/01/22 11:31\n",
      "10/01/22 11:31\n",
      "10/01/22 11:31\n",
      "Within 5 mins!\n"
     ]
    }
   ],
   "source": [
    "a = 1664623909207491\n",
    "b = 1664623909207491\n",
    "print(show_time(a))\n",
    "print(show_time(b))\n",
    "difference = a - b\n",
    "if difference < (5 * 60000000) and difference > -(5 * 60000000):\n",
    "    print(show_time(a))\n",
    "    print(show_time(b))\n",
    "    print('Within 5 mins!')\n",
    "else:\n",
    "    print(show_time(a))\n",
    "    print(show_time(b))\n",
    "    print('Not Within mins!', difference / 60000000, 'minutes apart.')\n"
   ]
  }
 ],
 "metadata": {
  "kernelspec": {
   "display_name": "Python 3.10.6 ('recsys')",
   "language": "python",
   "name": "python3"
  },
  "language_info": {
   "codemirror_mode": {
    "name": "ipython",
    "version": 3
   },
   "file_extension": ".py",
   "mimetype": "text/x-python",
   "name": "python",
   "nbconvert_exporter": "python",
   "pygments_lexer": "ipython3",
   "version": "3.10.6"
  },
  "orig_nbformat": 4,
  "vscode": {
   "interpreter": {
    "hash": "e5dedc761c654fe0a26ae88f4f5e7650203c66bdba7edd18b0cf3d3f36ecf555"
   }
  }
 },
 "nbformat": 4,
 "nbformat_minor": 2
}
